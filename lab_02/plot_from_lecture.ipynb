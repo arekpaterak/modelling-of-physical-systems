{
 "cells": [
  {
   "cell_type": "markdown",
   "metadata": {
    "tags": [
     "exclude"
    ]
   },
   "source": [
    "# Lab 02: Assignment\n",
    "\n",
    "Arkadiusz Paterak"
   ]
  },
  {
   "cell_type": "code",
   "execution_count": 11,
   "metadata": {},
   "outputs": [],
   "source": [
    "import pint\n",
    "from pint import Quantity\n",
    "import numpy as np\n",
    "import scipy.constants\n",
    "import matplotlib.pyplot as plt\n",
    "\n",
    "from typing import Callable"
   ]
  },
  {
   "cell_type": "code",
   "execution_count": 9,
   "metadata": {},
   "outputs": [],
   "source": [
    "si = pint.UnitRegistry()\n",
    "Q_ = si.Quantity"
   ]
  },
  {
   "cell_type": "code",
   "execution_count": 5,
   "metadata": {},
   "outputs": [],
   "source": [
    "t = np.arange(0, 100, 1)"
   ]
  },
  {
   "cell_type": "markdown",
   "metadata": {},
   "source": [
    "The goal of this report is to reproduce a chart presented during one of the lecture with help of Python library Pint."
   ]
  },
  {
   "cell_type": "markdown",
   "metadata": {},
   "source": [
    "The chart displays values of the solution to the Advection-Diffusion Equation (ADE) for a one-dimensional case, which is expressed as:\n",
    "\n",
    "$$c(x, t) = \\frac{M}{A} \\frac{1}{2 \\sqrt{\\pi D}} \\frac{x}{t^{3/2}} \\exp\\left( -\\frac{(ut - x)^2}{4 D t} \\right),$$\n",
    "\n",
    "where:\n",
    "\n",
    "- $c(x, t)$: concentration at position $x$ and time $t$ $\\left[ \\frac{kg}{m^3} \\right]$,\n",
    "- $M$: total mass of the pollutant released $\\left[ kg \\right]$,\n",
    "- $A$: cross-sectional area of flow $\\left[ m^2 \\right]$,\n",
    "- $D$: diffusion coefficient $\\left[ \\frac{m^2}{s} \\right]$,\n",
    "- $u$: average flow velocity $\\left[ \\frac{m}{s} \\right]$,\n",
    "- $x$: distance from the source $\\left[ m \\right]$,\n",
    "- $t$: time $\\left[ s \\right]$."
   ]
  },
  {
   "cell_type": "code",
   "execution_count": null,
   "metadata": {},
   "outputs": [],
   "source": [
    "# Implementation of the analytical solution\n",
    "def make_concentration_fn(\n",
    "    M: Quantity, \n",
    "    A: Quantity, \n",
    "    D: Quantity, \n",
    "    u: Quantity\n",
    ") -> Callable[[Quantity, Quantity], Quantity]:\n",
    "    def concentration_fn(x: Quantity, t: Quantity) -> Quantity:\n",
    "        prefactor = (M / A) * (1 / (2 * np.sqrt(np.pi * D))) * (x / t ** (3 / 2))\n",
    "        exponent = np.exp(-((u * t - x) ** 2) / (4 * D * t))\n",
    "        c = prefactor * exponent\n",
    "\n",
    "        return c\n",
    "    \n",
    "    return concentration_fn\n",
    "\n",
    "# Parameters with units\n",
    "M = 10 * si.kg\n",
    "A = 5 * si.m**2\n",
    "D = 0.01 * si.m**2 / si.s\n",
    "u = 0.1 * si.m / si.s\n",
    "x_fixed = 50 * si.m\n",
    "\n",
    "c = make_concentration_fn(M, A, D, u)"
   ]
  },
  {
   "cell_type": "code",
   "execution_count": null,
   "metadata": {},
   "outputs": [
    {
     "name": "stderr",
     "output_type": "stream",
     "text": [
      "d:\\ProgramFiles\\Miniconda3\\envs\\ai\\Lib\\site-packages\\pint\\facets\\plain\\quantity.py:1033: RuntimeWarning: divide by zero encountered in divide\n",
      "  return operator.truediv(a, b)\n",
      "d:\\ProgramFiles\\Miniconda3\\envs\\ai\\Lib\\site-packages\\pint\\facets\\plain\\quantity.py:1006: RuntimeWarning: divide by zero encountered in divide\n",
      "  magnitude = magnitude_op(new_self._magnitude, other._magnitude)\n",
      "d:\\ProgramFiles\\Miniconda3\\envs\\ai\\Lib\\site-packages\\pint\\facets\\plain\\quantity.py:1006: RuntimeWarning: invalid value encountered in multiply\n",
      "  magnitude = magnitude_op(new_self._magnitude, other._magnitude)\n",
      "No artists with labels found to put in legend.  Note that artists whose label start with an underscore are ignored when legend() is called with no argument.\n"
     ]
    },
    {
     "data": {
      "image/png": "[encoded data removed]",
      "text/plain": [
       "<Figure size 800x500 with 1 Axes>"
      ]
     },
     "metadata": {},
     "output_type": "display_data"
    }
   ],
   "source": [
    "t = np.arange(0, 100, 1) * si.s\n",
    "\n",
    "si.setup_matplotlib()\n",
    "\n",
    "plt.figure(figsize=(8, 5))\n",
    "plt.plot(t, c(x_fixed, t))\n",
    "plt.title('c(x, t) at x = 50 m')\n",
    "plt.legend()\n",
    "plt.grid(True)\n",
    "plt.show()"
   ]
  }
 ],
 "metadata": {
  "author": "Arkadiusz Paterak",
  "kernelspec": {
   "display_name": "ai",
   "language": "python",
   "name": "python3"
  },
  "language_info": {
   "codemirror_mode": {
    "name": "ipython",
    "version": 3
   },
   "file_extension": ".py",
   "mimetype": "text/x-python",
   "name": "python",
   "nbconvert_exporter": "python",
   "pygments_lexer": "ipython3",
   "version": "3.11.5"
  },
  "title": "Lab 02: Assignment"
 },
 "nbformat": 4,
 "nbformat_minor": 2
}
