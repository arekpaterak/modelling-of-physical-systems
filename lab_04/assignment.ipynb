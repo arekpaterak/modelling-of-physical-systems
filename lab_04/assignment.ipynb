{
 "cells": [
  {
   "cell_type": "markdown",
   "metadata": {
    "tags": [
     "exclude"
    ]
   },
   "source": [
    "<table style=\"width:99%\">\n",
    "<tr>    \n",
    "<td style=\"text-align: center\">\n",
    "<h1>Lab 04: Assignment</h1>\n",
    "<h2>Arkadiusz Paterak</h2>\n",
    "</td>\n",
    "</tr>\n",
    "</table>"
   ]
  },
  {
   "cell_type": "markdown",
   "metadata": {},
   "source": [
    "# Introduction\n",
    "\n",
    "The goal of this assignment is to get numerical solution for an advection-diffusion problem using upwind scheme, and compare it with an analytical solution.\n",
    "\n",
    "The solution might model a physical problems like e.g. ... This particular problem..."
   ]
  },
  {
   "cell_type": "code",
   "execution_count": null,
   "metadata": {},
   "outputs": [],
   "source": [
    "import pint\n",
    "from pint import Quantity\n",
    "import numpy as np\n",
    "import scipy.constants\n",
    "import matplotlib.pyplot as plt\n",
    "from open_atmos_jupyter_utils import show_plot\n",
    "\n",
    "from typing import Callable"
   ]
  },
  {
   "cell_type": "markdown",
   "metadata": {},
   "source": [
    "# Analytic solution"
   ]
  },
  {
   "cell_type": "code",
   "execution_count": null,
   "metadata": {},
   "outputs": [],
   "source": []
  },
  {
   "cell_type": "markdown",
   "metadata": {},
   "source": [
    "# Numerical integration"
   ]
  },
  {
   "cell_type": "code",
   "execution_count": null,
   "metadata": {},
   "outputs": [],
   "source": []
  },
  {
   "cell_type": "markdown",
   "metadata": {},
   "source": [
    "# Comparison of methods"
   ]
  },
  {
   "cell_type": "code",
   "execution_count": null,
   "metadata": {},
   "outputs": [],
   "source": []
  },
  {
   "cell_type": "markdown",
   "metadata": {},
   "source": [
    "# Conclusions"
   ]
  }
 ],
 "metadata": {
  "kernelspec": {
   "display_name": "ai",
   "language": "python",
   "name": "python3"
  },
  "language_info": {
   "name": "python",
   "version": "3.11.5"
  }
 },
 "nbformat": 4,
 "nbformat_minor": 2,
 "authors": [
   {
    "name": "Arkadiusz Paterak"
   }
  ],
  "title": "Lab 04: Assignment"
}
