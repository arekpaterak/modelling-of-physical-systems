{
 "cells": [
  {
   "cell_type": "markdown",
   "metadata": {
    "tags": [
     "exclude"
    ]
   },
   "source": [
    "<table style=\"width:99%\">\n",
    "<tr>    \n",
    "<td style=\"text-align: center\">\n",
    "<h1>Lab 03: Assignment</h1>\n",
    "<h2>Arkadiusz Paterak</h2>\n",
    "</td>\n",
    "</tr>\n",
    "</table>"
   ]
  },
  {
   "cell_type": "code",
   "execution_count": null,
   "metadata": {},
   "outputs": [],
   "source": [
    "import pint\n",
    "from pint import Quantity\n",
    "import numpy as np\n",
    "import scipy.constants\n",
    "import matplotlib.pyplot as plt\n",
    "from open_atmos_jupyter_utils import show_plot\n",
    "\n",
    "from typing import Callable"
   ]
  }
 ],
 "metadata": {
  "kernelspec": {
   "display_name": "ai",
   "language": "python",
   "name": "python3"
  },
  "language_info": {
   "name": "python",
   "version": "3.11.5"
  }
 },
 "nbformat": 4,
 "nbformat_minor": 2
}
