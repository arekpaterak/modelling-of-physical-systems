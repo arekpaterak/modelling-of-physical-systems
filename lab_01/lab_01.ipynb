{
  "nbformat": 4,
  "nbformat_minor": 0,
  "metadata": {
    "colab": {
      "provenance": []
    },
    "kernelspec": {
      "name": "python3",
      "display_name": "Python 3"
    },
    "language_info": {
      "name": "python"
    }
  },
  "cells": [
    {
      "cell_type": "code",
      "source": [
        "!pip install pint"
      ],
      "metadata": {
        "colab": {
          "base_uri": "https://localhost:8080/"
        },
        "id": "WbuRaMFvTdye",
        "outputId": "2bad89fd-967a-42b0-da13-5c0abbc0ff12"
      },
      "execution_count": null,
      "outputs": [
        {
          "output_type": "stream",
          "name": "stdout",
          "text": [
            "Requirement already satisfied: pint in /usr/local/lib/python3.11/dist-packages (0.24.4)\n",
            "Requirement already satisfied: platformdirs>=2.1.0 in /usr/local/lib/python3.11/dist-packages (from pint) (4.3.6)\n",
            "Requirement already satisfied: typing-extensions>=4.0.0 in /usr/local/lib/python3.11/dist-packages (from pint) (4.12.2)\n",
            "Requirement already satisfied: flexcache>=0.3 in /usr/local/lib/python3.11/dist-packages (from pint) (0.3)\n",
            "Requirement already satisfied: flexparser>=0.4 in /usr/local/lib/python3.11/dist-packages (from pint) (0.4)\n"
          ]
        }
      ]
    },
    {
      "cell_type": "code",
      "execution_count": null,
      "metadata": {
        "id": "tP7mBLidTJA1"
      },
      "outputs": [],
      "source": [
        "import pint"
      ]
    },
    {
      "cell_type": "markdown",
      "source": [
        "\"What is the density of the air in the room?\"\n",
        "\n",
        "To answer this question, let's model with use of a state equation: ideal gas law.\n",
        "\n",
        "$$ pV = NRT, $$\n",
        "where $R = kN_A$.\n",
        "\n",
        "$$ p = \\rho R'T, $$\n",
        "where $\\frac{R}{M}$.\n",
        "\n",
        "Data:\n",
        "\n",
        "- $\\rho = 1000$ hPa\n",
        "\n"
      ],
      "metadata": {
        "id": "M94mbWljUBbK"
      }
    },
    {
      "cell_type": "code",
      "source": [
        "si = pint.UnitRegistry()  # registry with SI units\n",
        "\n",
        "p = 1000 * si.hPa\n",
        "print(p)\n",
        "print(p.__class__)\n",
        "\n",
        "print(p + 3 * si.N / si.cm**2)\n",
        "# print(p - 4 * si.J / si.m**2)  # raises DimensionalityError"
      ],
      "metadata": {
        "colab": {
          "base_uri": "https://localhost:8080/"
        },
        "id": "D8DEwL_2TjC4",
        "outputId": "013ed07c-f11d-4df8-b63a-7d5d60062e73"
      },
      "execution_count": null,
      "outputs": [
        {
          "output_type": "stream",
          "name": "stdout",
          "text": [
            "1000 hectopascal\n",
            "<class 'pint.Quantity'>\n",
            "1300.0 hectopascal\n"
          ]
        }
      ]
    },
    {
      "cell_type": "code",
      "source": [
        "import scipy.constants\n",
        "\n",
        "assert scipy.constants.R == scipy.constants.gas_constant\n",
        "\n",
        "R = scipy.constants.R * si.joule / (si.mol * si.K)\n",
        "print(R)\n",
        "\n",
        "M = 28.96 * si.g / si.mol\n",
        "print(M)"
      ],
      "metadata": {
        "colab": {
          "base_uri": "https://localhost:8080/"
        },
        "id": "cRpIHJFvXesH",
        "outputId": "893f8bc1-ef3d-4898-e241-41336528835a"
      },
      "execution_count": null,
      "outputs": [
        {
          "output_type": "stream",
          "name": "stdout",
          "text": [
            "8.314462618 joule / kelvin / mole\n",
            "28.96 gram / mole\n"
          ]
        }
      ]
    },
    {
      "cell_type": "markdown",
      "source": [
        "$$ \\rho = \\frac{p}{R'T} = \\frac{p}{\\frac{R}{M}T} $$"
      ],
      "metadata": {
        "id": "qH2PszP9b3WI"
      }
    },
    {
      "cell_type": "code",
      "source": [
        "def density(temperature, pressure):\n",
        "    R_prime = R / M\n",
        "    return pressure / (R_prime * temperature)\n",
        "\n",
        "T = (17 + scipy.constants.zero_Celsius) * si.K\n",
        "print(T)\n",
        "\n",
        "rho = density(T, p)\n",
        "print(rho)\n",
        "print(rho.check(\"[density]\"))\n",
        "print(rho.check(\"[speed]\"))\n",
        "\n",
        "rho = rho.to_base_units()\n",
        "print(f\"{rho=:.3g}\")"
      ],
      "metadata": {
        "colab": {
          "base_uri": "https://localhost:8080/"
        },
        "id": "ZoNAUr5YZcYg",
        "outputId": "b5e7d23a-9943-4c25-aac9-d1d6287c6e90"
      },
      "execution_count": null,
      "outputs": [
        {
          "output_type": "stream",
          "name": "stdout",
          "text": [
            "290.15 kelvin\n",
            "12.004437022579845 gram * hectopascal / joule\n",
            "True\n",
            "False\n",
            "rho=1.2 kilogram / meter ** 3\n"
          ]
        }
      ]
    },
    {
      "cell_type": "code",
      "source": [
        "import numpy as np\n",
        "import matplotlib.pyplot as plt\n",
        "\n",
        "si.setup_matplotlib()\n",
        "\n",
        "temperatures = np.linspace(250, 320) * si.K\n",
        "\n",
        "plt.plot(temperatures, density(temperatures, p))\n",
        "plt.gca().xaxis.set_units(si.degC)\n",
        "plt.gca().yaxis.set_units(si.kg / si.m**3)\n",
        "plt.show()"
      ],
      "metadata": {
        "colab": {
          "base_uri": "https://localhost:8080/",
          "height": 450
        },
        "id": "BSu8Dgs9eZBf",
        "outputId": "b39671f0-9085-4bf6-800d-6afc775f19de"
      },
      "execution_count": null,
      "outputs": [
        {
          "output_type": "display_data",
          "data": {
            "text/plain": [
              "<Figure size 640x480 with 1 Axes>"
            ],
            "image/png": "[encoded data removed]"
          },
          "metadata": {}
        }
      ]
    },
    {
      "cell_type": "code",
      "source": [
        "(1 * si.pint).to_base_units()"
      ],
      "metadata": {
        "colab": {
          "base_uri": "https://localhost:8080/",
          "height": 38
        },
        "id": "fNfFEptshaAA",
        "outputId": "c7b3a6d6-1477-41e4-b047-923d6e00ca69"
      },
      "execution_count": null,
      "outputs": [
        {
          "output_type": "execute_result",
          "data": {
            "text/plain": [
              "<Quantity(0.000473176473, 'meter ** 3')>"
            ],
            "text/html": [
              "0.0004731764729999999 meter<sup>3</sup>"
            ],
            "text/latex": "$0.0004731764729999999\\ \\mathrm{meter}^{3}$"
          },
          "metadata": {},
          "execution_count": 68
        }
      ]
    },
    {
      "cell_type": "markdown",
      "source": [
        "Homeworks:\n",
        "- 7 times\n",
        "- 60% of the overall grade\n",
        "- a two week window\n",
        "- the extension of the lab work\n",
        "- the submission by email with a single link to a GitHub repository\n",
        "- a GitHub action script inside the repo that compiles to a pdf report\n",
        "- all graphics must be vector graphics"
      ],
      "metadata": {
        "id": "pEJ52uUdcW2a"
      }
    }
  ]
}